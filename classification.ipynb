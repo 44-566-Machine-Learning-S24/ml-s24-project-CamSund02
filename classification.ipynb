{
 "cells": [
  {
   "cell_type": "code",
   "execution_count": 1,
   "metadata": {},
   "outputs": [],
   "source": [
    "import pandas as pd\n",
    "dataFrame = pd.read_csv(\"Housing.csv\")\n",
    "data_copy_1 = dataFrame.copy()\n",
    "data_copy_1.dropna(axis='index',how='any',inplace=True)\n",
    "from sklearn.model_selection import train_test_split\n",
    "train_set, test_set = train_test_split(dataFrame, random_state=0)\n"
   ]
  }
 ],
 "metadata": {
  "kernelspec": {
   "display_name": ".venv",
   "language": "python",
   "name": "python3"
  },
  "language_info": {
   "codemirror_mode": {
    "name": "ipython",
    "version": 3
   },
   "file_extension": ".py",
   "mimetype": "text/x-python",
   "name": "python",
   "nbconvert_exporter": "python",
   "pygments_lexer": "ipython3",
   "version": "3.12.2"
  }
 },
 "nbformat": 4,
 "nbformat_minor": 2
}
