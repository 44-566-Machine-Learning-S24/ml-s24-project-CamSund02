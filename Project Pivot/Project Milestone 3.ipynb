{
 "cells": [
  {
   "cell_type": "markdown",
   "metadata": {},
   "source": [
    "## 0. Read File and Split"
   ]
  },
  {
   "cell_type": "code",
   "execution_count": 1,
   "metadata": {},
   "outputs": [
    {
     "name": "stdout",
     "output_type": "stream",
     "text": [
      "<bound method NDFrame.keys of       latitude  longitude  floorSize   price  \\\n",
      "0    39.252922 -94.571526       1656  330000   \n",
      "1    39.286930 -94.595634       1649  376700   \n",
      "2    39.052692 -94.545950       1600  185000   \n",
      "3    39.211430 -94.638050       1698  319000   \n",
      "4    39.293766 -94.464226       1649  373600   \n",
      "..         ...        ...        ...     ...   \n",
      "401  39.142340 -94.649720       1366  295000   \n",
      "402  39.147373 -94.832670       2565  590159   \n",
      "403  39.112940 -94.631050       1512  195000   \n",
      "404  39.136390 -94.644430       1570  145000   \n",
      "405  39.148520 -94.832760       2257  574635   \n",
      "\n",
      "                                                   url  \n",
      "0    https://www.zillow.com/homedetails/701-NE-88th...  \n",
      "1    https://www.zillow.com/community/holly-farms/3...  \n",
      "2    https://www.zillow.com/homedetails/4014-Colleg...  \n",
      "3    https://www.zillow.com/homedetails/6407-N-Kirk...  \n",
      "4    https://www.zillow.com/community/somerbrook/34...  \n",
      "..                                                 ...  \n",
      "401  https://www.zillow.com/homedetails/3017-Getty-...  \n",
      "402  https://www.zillow.com/homedetails/3311-N-109t...  \n",
      "403  https://www.zillow.com/homedetails/828-Barnett...  \n",
      "404  https://www.zillow.com/homedetails/1328-Yecker...  \n",
      "405  https://www.zillow.com/community/whispering-ri...  \n",
      "\n",
      "[406 rows x 5 columns]>\n"
     ]
    }
   ],
   "source": [
    "import pandas as pd\n",
    "from sklearn.model_selection import train_test_split\n",
    "\n",
    "cleanedFile = \"4.10.24 Duplicates Removed.csv\"\n",
    "DF = pd.read_csv(cleanedFile)\n",
    "\n",
    "DF.dropna(axis='index', how='any', inplace=True)\n",
    "\n",
    "train_set, test_set = train_test_split(DF, test_size=0.3, random_state=0)\n",
    "print(DF.keys)\n",
    "\n",
    "X = DF[['latitude', 'longitude', 'floorSize']]\n",
    "y = DF['price']\n",
    "\n",
    "X_train = train_set[['latitude', 'longitude', 'floorSize']]\n",
    "y_train = train_set['price']\n",
    "\n",
    "X_test = test_set[['latitude', 'longitude', 'floorSize']]\n",
    "y_test = test_set['price']"
   ]
  },
  {
   "cell_type": "markdown",
   "metadata": {},
   "source": [
    "## 1. Clustering"
   ]
  },
  {
   "cell_type": "markdown",
   "metadata": {},
   "source": [
    "## 2. Dimensional Analysis"
   ]
  },
  {
   "cell_type": "markdown",
   "metadata": {},
   "source": [
    "## 3. Visualize and Narrative"
   ]
  },
  {
   "cell_type": "markdown",
   "metadata": {},
   "source": [
    "## 4. Anomalous Data"
   ]
  },
  {
   "cell_type": "markdown",
   "metadata": {},
   "source": [
    "## 5. Random Forest & Neural Net"
   ]
  },
  {
   "cell_type": "markdown",
   "metadata": {},
   "source": [
    "#### Random Forest"
   ]
  },
  {
   "cell_type": "code",
   "execution_count": 56,
   "metadata": {},
   "outputs": [
    {
     "name": "stdout",
     "output_type": "stream",
     "text": [
      "[[1 0 0 ... 0 0 0]\n",
      " [0 1 0 ... 0 0 0]\n",
      " [0 0 1 ... 0 0 0]\n",
      " ...\n",
      " [0 0 0 ... 1 0 0]\n",
      " [0 0 0 ... 0 1 0]\n",
      " [0 0 0 ... 0 0 1]]\n",
      "Accuracy 0.9969230769230769\n",
      "F1 0.9956043956043955\n",
      "[[1 0 0 ... 0 0 0]\n",
      " [0 1 0 ... 0 0 0]\n",
      " [0 0 1 ... 0 0 0]\n",
      " ...\n",
      " [0 0 0 ... 1 0 0]\n",
      " [0 0 0 ... 0 1 0]\n",
      " [0 0 0 ... 0 0 1]]\n",
      "Accuracy 0.8032786885245902\n",
      "F1 0.7848816029143898\n"
     ]
    }
   ],
   "source": [
    "from sklearn.ensemble import RandomForestClassifier\n",
    "from sklearn.metrics import confusion_matrix\n",
    "from sklearn.metrics import accuracy_score, f1_score\n",
    "\n",
    "\n",
    "RFC = RandomForestClassifier(max_depth=1)\n",
    "\n",
    "\n",
    "RFC.fit(X_train, y_train)\n",
    "y_train_predict = RFC.predict(X_train)\n",
    "matrixTrain = confusion_matrix(y_train, y_train_predict)\n",
    "print(matrixTrain)\n",
    "print(\"Accuracy\", accuracy_score(y_train, y_train_predict))\n",
    "print(\"F1\", f1_score(y_train ,y_train_predict, average='weighted'))\n",
    "\n",
    "y_test_predict = RFC.predict(X_test)\n",
    "matrixTest = confusion_matrix(y_test, y_test_predict)\n",
    "print(matrixTest)\n",
    "print(\"Accuracy\", accuracy_score(y_test, y_test_predict))\n",
    "print(\"F1\", f1_score(y_test, y_test_predict, average='weighted'))"
   ]
  },
  {
   "cell_type": "code",
   "execution_count": 82,
   "metadata": {},
   "outputs": [
    {
     "name": "stderr",
     "output_type": "stream",
     "text": [
      "c:\\Users\\CamSu\\Desktop\\pyVENV\\.venv\\Lib\\site-packages\\sklearn\\model_selection\\_split.py:737: UserWarning: The least populated class in y has only 1 members, which is less than n_splits=5.\n",
      "  warnings.warn(\n"
     ]
    },
    {
     "name": "stdout",
     "output_type": "stream",
     "text": [
      "[[0 0 0 ... 0 0 0]\n",
      " [0 0 1 ... 0 0 0]\n",
      " [0 0 0 ... 0 0 0]\n",
      " ...\n",
      " [0 0 0 ... 0 0 0]\n",
      " [0 0 0 ... 0 0 0]\n",
      " [0 0 0 ... 0 0 0]]\n",
      "Accuracy 0.024390243902439025\n",
      "F1 0.018292682926829267\n",
      "\n",
      "[[0 0 0 ... 0 0 0]\n",
      " [0 0 0 ... 0 0 0]\n",
      " [0 0 0 ... 0 0 0]\n",
      " ...\n",
      " [0 0 0 ... 0 0 0]\n",
      " [0 0 0 ... 0 0 0]\n",
      " [0 0 0 ... 0 1 0]]\n",
      "Accuracy 0.04938271604938271\n",
      "F1 0.040329218106995884\n",
      "\n",
      "[[0 0 0 ... 0 0 0]\n",
      " [0 0 0 ... 0 0 0]\n",
      " [0 0 0 ... 0 0 0]\n",
      " ...\n",
      " [0 0 0 ... 0 0 0]\n",
      " [0 0 0 ... 0 0 0]\n",
      " [0 0 0 ... 0 0 0]]\n",
      "Accuracy 0.024691358024691357\n",
      "F1 0.024691358024691357\n",
      "\n",
      "[[0 0 0 ... 0 0 0]\n",
      " [0 0 0 ... 0 0 0]\n",
      " [0 0 0 ... 0 0 0]\n",
      " ...\n",
      " [0 0 0 ... 0 0 0]\n",
      " [0 0 0 ... 0 0 0]\n",
      " [0 0 0 ... 0 0 1]]\n",
      "Accuracy 0.04938271604938271\n",
      "F1 0.04526748971193415\n",
      "\n",
      "[[0 0 0 ... 0 0 0]\n",
      " [0 0 0 ... 0 0 0]\n",
      " [0 0 0 ... 0 0 0]\n",
      " ...\n",
      " [0 0 0 ... 0 0 0]\n",
      " [0 0 0 ... 0 0 0]\n",
      " [0 0 0 ... 0 0 0]]\n",
      "Accuracy 0.04938271604938271\n",
      "F1 0.021604938271604937\n",
      "\n"
     ]
    }
   ],
   "source": [
    "from sklearn.model_selection import StratifiedKFold\n",
    "from sklearn.ensemble import RandomForestClassifier\n",
    "\n",
    "spliter = StratifiedKFold(n_splits = 5)\n",
    "\n",
    "for train_indices, validate_indices in spliter.split(X, y):\n",
    "    RFC = RandomForestClassifier(max_depth=8)\n",
    "    X_train = X.iloc[train_indices]\n",
    "    y_train = y.iloc[train_indices]\n",
    "    RFC.fit(X_train,y_train)\n",
    "    X_validate = X.iloc[validate_indices]\n",
    "    y_validate = y.iloc[validate_indices]\n",
    "    y_predicted = RFC.predict(X_validate)\n",
    "    matrix = confusion_matrix(y_validate, y_predicted)\n",
    "    print(matrix)\n",
    "    print(\"Accuracy\", accuracy_score(y_validate,y_predicted))\n",
    "    print(\"F1\", f1_score(y_validate, y_predicted, average='weighted'))\n",
    "    print()"
   ]
  },
  {
   "cell_type": "markdown",
   "metadata": {},
   "source": [
    "#### Neural Net"
   ]
  },
  {
   "cell_type": "code",
   "execution_count": 85,
   "metadata": {},
   "outputs": [
    {
     "name": "stdout",
     "output_type": "stream",
     "text": [
      "[[0 0 0 ... 0 0 0]\n",
      " [0 1 0 ... 0 0 0]\n",
      " [0 0 0 ... 0 0 0]\n",
      " ...\n",
      " [0 0 0 ... 0 0 0]\n",
      " [0 0 0 ... 0 0 0]\n",
      " [0 0 0 ... 0 0 0]]\n",
      "Accuracy 0.04\n",
      "F1 0.011565011968661647\n",
      "[[0 0 0 ... 0 0 0]\n",
      " [0 0 0 ... 0 0 0]\n",
      " [0 0 0 ... 0 0 0]\n",
      " ...\n",
      " [0 0 0 ... 0 0 0]\n",
      " [0 0 0 ... 0 1 0]\n",
      " [0 0 0 ... 0 0 0]]\n",
      "Accuracy 0.09016393442622951\n",
      "F1 0.04433786768980351\n"
     ]
    }
   ],
   "source": [
    "from sklearn.neural_network import MLPClassifier\n",
    "from sklearn.metrics import confusion_matrix\n",
    "from sklearn.metrics import accuracy_score, f1_score\n",
    "\n",
    "\n",
    "MLP = MLPClassifier()\n",
    "\n",
    "\n",
    "MLP.fit(X_train, y_train)\n",
    "y_train_predict = MLP.predict(X_train)\n",
    "matrixTrain = confusion_matrix(y_train, y_train_predict)\n",
    "print(matrixTrain)\n",
    "print(\"Accuracy\", accuracy_score(y_train, y_train_predict))\n",
    "print(\"F1\", f1_score(y_train ,y_train_predict, average='weighted'))\n",
    "\n",
    "y_test_predict = RFC.predict(X_test)\n",
    "matrixTest = confusion_matrix(y_test, y_test_predict)\n",
    "print(matrixTest)\n",
    "print(\"Accuracy\", accuracy_score(y_test, y_test_predict))\n",
    "print(\"F1\", f1_score(y_test, y_test_predict, average='weighted'))"
   ]
  },
  {
   "cell_type": "code",
   "execution_count": 86,
   "metadata": {},
   "outputs": [
    {
     "name": "stderr",
     "output_type": "stream",
     "text": [
      "c:\\Users\\CamSu\\Desktop\\pyVENV\\.venv\\Lib\\site-packages\\sklearn\\model_selection\\_split.py:737: UserWarning: The least populated class in y has only 1 members, which is less than n_splits=5.\n",
      "  warnings.warn(\n"
     ]
    },
    {
     "name": "stdout",
     "output_type": "stream",
     "text": [
      "[[0 1 0 ... 0 0 0]\n",
      " [0 0 0 ... 0 0 0]\n",
      " [0 0 0 ... 0 0 0]\n",
      " ...\n",
      " [0 0 0 ... 0 0 0]\n",
      " [0 0 0 ... 0 0 0]\n",
      " [0 0 0 ... 0 0 0]]\n",
      "Accuracy 0.012195121951219513\n",
      "F1 0.0004434589800443459\n",
      "\n",
      "[[0 0 0 ... 0 0 0]\n",
      " [0 0 0 ... 0 0 0]\n",
      " [0 0 0 ... 0 0 0]\n",
      " ...\n",
      " [0 0 0 ... 0 0 0]\n",
      " [0 0 0 ... 0 0 0]\n",
      " [0 0 0 ... 0 0 0]]\n",
      "Accuracy 0.024691358024691357\n",
      "F1 0.012345679012345678\n",
      "\n",
      "[[0 0 0 ... 0 0 0]\n",
      " [0 0 0 ... 0 0 0]\n",
      " [0 0 0 ... 0 0 0]\n",
      " ...\n",
      " [0 0 0 ... 0 0 0]\n",
      " [0 0 0 ... 0 0 0]\n",
      " [0 0 0 ... 0 0 0]]\n",
      "Accuracy 0.0\n",
      "F1 0.0\n",
      "\n",
      "[[0 0 0 ... 0 0 0]\n",
      " [0 0 0 ... 0 0 0]\n",
      " [0 0 0 ... 0 0 0]\n",
      " ...\n",
      " [0 0 0 ... 0 0 0]\n",
      " [0 0 0 ... 0 0 1]\n",
      " [0 0 0 ... 0 0 0]]\n",
      "Accuracy 0.012345679012345678\n",
      "F1 0.0004841442749939482\n",
      "\n",
      "[[0 0 0 ... 0 0 0]\n",
      " [1 0 0 ... 0 0 0]\n",
      " [0 0 0 ... 0 0 0]\n",
      " ...\n",
      " [0 0 0 ... 0 0 0]\n",
      " [0 0 0 ... 0 0 0]\n",
      " [0 0 0 ... 0 0 0]]\n",
      "Accuracy 0.012345679012345678\n",
      "F1 0.001122334455667789\n",
      "\n"
     ]
    }
   ],
   "source": [
    "from sklearn.model_selection import StratifiedKFold\n",
    "\n",
    "spliter = StratifiedKFold(n_splits = 5)\n",
    "\n",
    "for train_indices, validate_indices in spliter.split(X, y):\n",
    "    MLP = MLPClassifier()\n",
    "    X_train = X.iloc[train_indices]\n",
    "    y_train = y.iloc[train_indices]\n",
    "    MLP.fit(X_train,y_train)\n",
    "    X_validate = X.iloc[validate_indices]\n",
    "    y_validate = y.iloc[validate_indices]\n",
    "    y_predicted = MLP.predict(X_validate)\n",
    "    matrix = confusion_matrix(y_validate, y_predicted)\n",
    "    print(matrix)\n",
    "    print(\"Accuracy\", accuracy_score(y_validate,y_predicted))\n",
    "    print(\"F1\", f1_score(y_validate, y_predicted, average='weighted'))\n",
    "    print()"
   ]
  }
 ],
 "metadata": {
  "kernelspec": {
   "display_name": ".venv",
   "language": "python",
   "name": "python3"
  },
  "language_info": {
   "codemirror_mode": {
    "name": "ipython",
    "version": 3
   },
   "file_extension": ".py",
   "mimetype": "text/x-python",
   "name": "python",
   "nbconvert_exporter": "python",
   "pygments_lexer": "ipython3",
   "version": "3.12.2"
  }
 },
 "nbformat": 4,
 "nbformat_minor": 2
}
