{
 "cells": [
  {
   "cell_type": "markdown",
   "metadata": {},
   "source": [
    "## 0. Read File and Split"
   ]
  },
  {
   "cell_type": "code",
   "execution_count": 1,
   "metadata": {},
   "outputs": [
    {
     "name": "stdout",
     "output_type": "stream",
     "text": [
      "<bound method NDFrame.keys of       latitude  longitude  floorSize   price  \\\n",
      "0    39.252922 -94.571526       1656  330000   \n",
      "1    39.286930 -94.595634       1649  376700   \n",
      "2    39.052692 -94.545950       1600  185000   \n",
      "3    39.211430 -94.638050       1698  319000   \n",
      "4    39.293766 -94.464226       1649  373600   \n",
      "..         ...        ...        ...     ...   \n",
      "401  39.142340 -94.649720       1366  295000   \n",
      "402  39.147373 -94.832670       2565  590159   \n",
      "403  39.112940 -94.631050       1512  195000   \n",
      "404  39.136390 -94.644430       1570  145000   \n",
      "405  39.148520 -94.832760       2257  574635   \n",
      "\n",
      "                                                   url  \n",
      "0    https://www.zillow.com/homedetails/701-NE-88th...  \n",
      "1    https://www.zillow.com/community/holly-farms/3...  \n",
      "2    https://www.zillow.com/homedetails/4014-Colleg...  \n",
      "3    https://www.zillow.com/homedetails/6407-N-Kirk...  \n",
      "4    https://www.zillow.com/community/somerbrook/34...  \n",
      "..                                                 ...  \n",
      "401  https://www.zillow.com/homedetails/3017-Getty-...  \n",
      "402  https://www.zillow.com/homedetails/3311-N-109t...  \n",
      "403  https://www.zillow.com/homedetails/828-Barnett...  \n",
      "404  https://www.zillow.com/homedetails/1328-Yecker...  \n",
      "405  https://www.zillow.com/community/whispering-ri...  \n",
      "\n",
      "[406 rows x 5 columns]>\n"
     ]
    }
   ],
   "source": [
    "import pandas as pd\n",
    "from sklearn.model_selection import train_test_split\n",
    "\n",
    "cleanedFile = \"4.10.24 Duplicates Removed.csv\"\n",
    "DF = pd.read_csv(cleanedFile)\n",
    "\n",
    "DF.dropna(axis='index', how='any', inplace=True)\n",
    "\n",
    "train_set, test_set = train_test_split(DF, test_size=0.3, random_state=0)\n",
    "print(DF.keys)\n",
    "\n",
    "X = DF[['latitude', 'longitude', 'floorSize']]\n",
    "y = DF['price']\n",
    "\n",
    "X_train = train_set[['latitude', 'longitude', 'floorSize']]\n",
    "y_train = train_set['price']\n",
    "\n",
    "X_test = test_set[['latitude', 'longitude', 'floorSize']]\n",
    "y_test = test_set['price']"
   ]
  },
  {
   "cell_type": "markdown",
   "metadata": {},
   "source": [
    "## 1. Clustering"
   ]
  },
  {
   "cell_type": "code",
   "execution_count": null,
   "metadata": {},
   "outputs": [],
   "source": [
    "from sklearn.cluster import KMeans\n",
    "from sklearn.ensemble import RandomForestClassifier\n",
    "from sklearn.metrics import confusion_matrix\n",
    "from sklearn.metrics import accuracy_score, f1_score\n",
    "from sklearn.metrics import silhouette_score\n",
    "\n",
    "\n",
    "KMC = KMeans(n_clusters=2)\n",
    "\n",
    "\n",
    "KMC.fit(X_train)\n",
    "y_train_predict = KMC.predict(X_train)\n",
    "matrixTrain = confusion_matrix(y_train, y_train_predict)\n",
    "print(matrixTrain)\n",
    "print(\"Accuracy\", accuracy_score(y_train, y_train_predict))\n",
    "print(\"F1\", f1_score(y_train ,y_train_predict, average='weighted'))\n",
    "\n",
    "y_test_predict = KMC.predict(X_test)\n",
    "matrixTest = confusion_matrix(y_test, y_test_predict)\n",
    "print(matrixTest)\n",
    "silhouette_avg = silhouette_score(X_train, y_train_predict)\n",
    "print(f\"Silhouette Score for training data: {silhouette_avg}\")\n",
    "\n",
    "silhouette_avg_test = silhouette_score(X_test, y_test_predict)\n",
    "print(f\"Silhouette Score for test data: {silhouette_avg_test}\")"
   ]
  },
  {
   "cell_type": "code",
   "execution_count": null,
   "metadata": {},
   "outputs": [],
   "source": [
    "from sklearn.model_selection import StratifiedKFold\n",
    "\n",
    "spliter = StratifiedKFold(n_splits = 5, shuffle=True, random_state= 23)\n",
    "\n",
    "for train_indices, validate_indices in spliter.split(X, y):\n",
    "    KMC = KMeans(n_clusters=2, random_state=3)\n",
    "    X_train = X.iloc[train_indices]\n",
    "    y_train = y.iloc[train_indices]\n",
    "    KMC.fit(X_train)\n",
    "    X_validate = X.iloc[validate_indices]\n",
    "    y_validate = y.iloc[validate_indices]\n",
    "    y_predicted = KMC.predict(X_validate)\n",
    "    matrix = confusion_matrix(y_validate, y_predicted)\n",
    "    print(matrix)\n",
    "    print(f\"Silhouette Score for training data: {silhouette_avg}\")\n",
    "\n",
    "    silhouette_avg_test = silhouette_score(X_validate, y_predicted)\n",
    "    print(f\"Silhouette Score for test data: {silhouette_avg_test}\")\n",
    "    print()"
   ]
  },
  {
   "cell_type": "markdown",
   "metadata": {},
   "source": [
    "## 2. Dimensional Analysis"
   ]
  },
  {
   "cell_type": "code",
   "execution_count": null,
   "metadata": {},
   "outputs": [],
   "source": [
    "from sklearn.cluster import KMeans\n",
    "from sklearn.decomposition import PCA\n",
    "from sklearn.preprocessing import StandardScaler\n",
    "from sklearn.metrics import confusion_matrix\n",
    "from sklearn.metrics import accuracy_score, f1_score\n",
    "from sklearn.metrics import silhouette_score\n",
    "\n",
    "scaler = StandardScaler()\n",
    "X_train_standardized = scaler.fit_transform(X_train)\n",
    "X_test_standardized = scaler.transform(X_test)\n",
    "\n",
    "pca = PCA(n_components=3)\n",
    "\n",
    "X_train_pca = pca.fit_transform(X_train_standardized)\n",
    "X_test_pca = pca.transform(X_test_standardized)\n",
    "\n",
    "KMC = KMeans(n_clusters=2)\n",
    "\n",
    "\n",
    "KMC.fit(X_train_pca)\n",
    "y_train_predict = KMC.predict(X_train_pca)\n",
    "\n",
    "y_test_predict = KMC.predict(X_test_pca)\n",
    "matrixTrain = confusion_matrix(y_train, y_train_predict)\n",
    "print(matrixTrain)\n",
    "print( accuracy_score(y_train, y_train_predict))\n",
    "print(f1_score(y_train, y_train_predict, average='weighted'))\n",
    "\n",
    "matrixTest = confusion_matrix(y_test, y_test_predict)\n",
    "print(matrixTest)\n",
    "print(accuracy_score(y_test, y_test_predict))\n",
    "print(f1_score(y_test, y_test_predict, average='weighted'))"
   ]
  },
  {
   "cell_type": "markdown",
   "metadata": {},
   "source": [
    "## 3. Visualize and Narrative"
   ]
  },
  {
   "cell_type": "code",
   "execution_count": null,
   "metadata": {},
   "outputs": [],
   "source": [
    "from sklearn.ensemble import RandomForestClassifier\n",
    "from sklearn.metrics import confusion_matrix\n",
    "from sklearn.metrics import accuracy_score, f1_score\n",
    "\n",
    "\n",
    "RFC = RandomForestClassifier(max_depth=1)\n",
    "\n",
    "\n",
    "RFC.fit(X_train, y_train)\n",
    "y_train_predict = RFC.predict(X_train)\n",
    "matrixTrain = confusion_matrix(y_train, y_train_predict)\n",
    "print(matrixTrain)\n",
    "print(\"Accuracy\", accuracy_score(y_train, y_train_predict))\n",
    "print(\"F1\", f1_score(y_train ,y_train_predict, average='weighted'))\n",
    "\n",
    "y_test_predict = RFC.predict(X_test)\n",
    "matrixTest = confusion_matrix(y_test, y_test_predict)\n",
    "print(matrixTest)\n",
    "print(\"Accuracy\", accuracy_score(y_test, y_test_predict))\n",
    "print(\"F1\", f1_score(y_test, y_test_predict, average='weighted'))\n",
    "\n"
   ]
  },
  {
   "cell_type": "markdown",
   "metadata": {},
   "source": [
    "## 4. Anomalous Data"
   ]
  },
  {
   "cell_type": "markdown",
   "metadata": {},
   "source": [
    "## 5. Random Forest & Neural Net"
   ]
  },
  {
   "cell_type": "markdown",
   "metadata": {},
   "source": [
    "#### Random Forest"
   ]
  },
  {
   "cell_type": "code",
   "execution_count": 13,
   "metadata": {},
   "outputs": [
    {
     "name": "stdout",
     "output_type": "stream",
     "text": [
      "[[1 0 0 ... 0 0 0]\n",
      " [0 1 0 ... 0 0 0]\n",
      " [0 0 1 ... 0 0 0]\n",
      " ...\n",
      " [0 0 0 ... 1 0 0]\n",
      " [0 0 0 ... 0 2 0]\n",
      " [0 0 0 ... 0 0 1]]\n",
      "Accuracy 0.9964788732394366\n",
      "F1 0.9953051643192486\n",
      "[[0 0 0 ... 0 0 0]\n",
      " [0 0 0 ... 0 0 0]\n",
      " [0 0 0 ... 0 0 0]\n",
      " ...\n",
      " [0 0 0 ... 0 0 0]\n",
      " [0 0 0 ... 0 0 0]\n",
      " [0 0 0 ... 0 0 0]]\n",
      "Accuracy 0.04918032786885246\n",
      "F1 0.0430327868852459\n"
     ]
    }
   ],
   "source": [
    "from sklearn.ensemble import RandomForestClassifier\n",
    "from sklearn.metrics import confusion_matrix\n",
    "from sklearn.metrics import accuracy_score, f1_score\n",
    "\n",
    "\n",
    "RFC = RandomForestClassifier(max_depth=10)\n",
    "\n",
    "\n",
    "RFC.fit(X_train, y_train)\n",
    "y_train_predict = RFC.predict(X_train)\n",
    "matrixTrain = confusion_matrix(y_train, y_train_predict)\n",
    "print(matrixTrain)\n",
    "print(\"Accuracy\", accuracy_score(y_train, y_train_predict))\n",
    "print(\"F1\", f1_score(y_train ,y_train_predict, average='weighted'))\n",
    "\n",
    "y_test_predict = RFC.predict(X_test)\n",
    "matrixTest = confusion_matrix(y_test, y_test_predict)\n",
    "print(matrixTest)\n",
    "print(\"Accuracy\", accuracy_score(y_test, y_test_predict))\n",
    "print(\"F1\", f1_score(y_test, y_test_predict, average='weighted'))"
   ]
  },
  {
   "cell_type": "code",
   "execution_count": null,
   "metadata": {},
   "outputs": [],
   "source": [
    "from sklearn.model_selection import StratifiedKFold\n",
    "from sklearn.ensemble import RandomForestClassifier\n",
    "\n",
    "spliter = StratifiedKFold(n_splits = 5)\n",
    "\n",
    "for train_indices, validate_indices in spliter.split(X, y):\n",
    "    RFC = RandomForestClassifier(max_depth=8)\n",
    "    X_train = X.iloc[train_indices]\n",
    "    y_train = y.iloc[train_indices]\n",
    "    RFC.fit(X_train,y_train)\n",
    "    X_validate = X.iloc[validate_indices]\n",
    "    y_validate = y.iloc[validate_indices]\n",
    "    y_predicted = RFC.predict(X_validate)\n",
    "    matrix = confusion_matrix(y_validate, y_predicted)\n",
    "    print(matrix)\n",
    "    print(\"Accuracy\", accuracy_score(y_validate,y_predicted))\n",
    "    print(\"F1\", f1_score(y_validate, y_predicted, average='weighted'))\n",
    "    print()"
   ]
  },
  {
   "cell_type": "markdown",
   "metadata": {},
   "source": [
    "#### Neural Net"
   ]
  },
  {
   "cell_type": "code",
   "execution_count": null,
   "metadata": {},
   "outputs": [],
   "source": [
    "from sklearn.neural_network import MLPClassifier\n",
    "from sklearn.metrics import confusion_matrix\n",
    "from sklearn.metrics import accuracy_score, f1_score\n",
    "\n",
    "\n",
    "MLP = MLPClassifier()\n",
    "\n",
    "\n",
    "MLP.fit(X_train, y_train)\n",
    "y_train_predict = MLP.predict(X_train)\n",
    "matrixTrain = confusion_matrix(y_train, y_train_predict)\n",
    "print(matrixTrain)\n",
    "print(\"Accuracy\", accuracy_score(y_train, y_train_predict))\n",
    "print(\"F1\", f1_score(y_train ,y_train_predict, average='weighted'))\n",
    "\n",
    "y_test_predict = RFC.predict(X_test)\n",
    "matrixTest = confusion_matrix(y_test, y_test_predict)\n",
    "print(matrixTest)\n",
    "print(\"Accuracy\", accuracy_score(y_test, y_test_predict))\n",
    "print(\"F1\", f1_score(y_test, y_test_predict, average='weighted'))"
   ]
  },
  {
   "cell_type": "code",
   "execution_count": null,
   "metadata": {},
   "outputs": [],
   "source": [
    "from sklearn.model_selection import StratifiedKFold\n",
    "\n",
    "spliter = StratifiedKFold(n_splits = 5)\n",
    "\n",
    "for train_indices, validate_indices in spliter.split(X, y):\n",
    "    MLP = MLPClassifier()\n",
    "    X_train = X.iloc[train_indices]\n",
    "    y_train = y.iloc[train_indices]\n",
    "    MLP.fit(X_train,y_train)\n",
    "    X_validate = X.iloc[validate_indices]\n",
    "    y_validate = y.iloc[validate_indices]\n",
    "    y_predicted = MLP.predict(X_validate)\n",
    "    matrix = confusion_matrix(y_validate, y_predicted)\n",
    "    print(matrix)\n",
    "    print(\"Accuracy\", accuracy_score(y_validate,y_predicted))\n",
    "    print(\"F1\", f1_score(y_validate, y_predicted, average='weighted'))\n",
    "    print()"
   ]
  }
 ],
 "metadata": {
  "kernelspec": {
   "display_name": ".venv",
   "language": "python",
   "name": "python3"
  },
  "language_info": {
   "codemirror_mode": {
    "name": "ipython",
    "version": 3
   },
   "file_extension": ".py",
   "mimetype": "text/x-python",
   "name": "python",
   "nbconvert_exporter": "python",
   "pygments_lexer": "ipython3",
   "version": "3.12.2"
  }
 },
 "nbformat": 4,
 "nbformat_minor": 2
}
